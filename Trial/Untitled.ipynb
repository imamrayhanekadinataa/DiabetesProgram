{
 "cells": [
  {
   "cell_type": "code",
   "execution_count": 44,
   "id": "d38bbb81",
   "metadata": {},
   "outputs": [],
   "source": [
    "#Mengimport Library\n",
    "\n",
    "import pickle\n",
    "import pandas as pd\n",
    "import numpy as np\n",
    "import seaborn as sns\n",
    "import matplotlib.pyplot as plt\n",
    "from sklearn.model_selection import train_test_split\n",
    "from sklearn.neighbors import KNeighborsClassifier\n",
    "from sklearn.preprocessing import MinMaxScaler\n",
    "from sklearn.metrics import confusion_matrix\n",
    "from sklearn.metrics import accuracy_score\n",
    "from sklearn.metrics import classification_report\n",
    "from sklearn.metrics import f1_score"
   ]
  },
  {
   "cell_type": "markdown",
   "id": "066f5b93",
   "metadata": {},
   "source": [
    "# **MEMASUKKAN DATASET** "
   ]
  },
  {
   "cell_type": "code",
   "execution_count": 45,
   "id": "31caa71a",
   "metadata": {},
   "outputs": [],
   "source": [
    "#Membaca Dataset\n",
    "\n",
    "df = pd.read_csv('dataset_diabetes.csv')"
   ]
  },
  {
   "cell_type": "code",
   "execution_count": 46,
   "id": "53e7277e",
   "metadata": {},
   "outputs": [
    {
     "data": {
      "text/html": [
       "<div>\n",
       "<style scoped>\n",
       "    .dataframe tbody tr th:only-of-type {\n",
       "        vertical-align: middle;\n",
       "    }\n",
       "\n",
       "    .dataframe tbody tr th {\n",
       "        vertical-align: top;\n",
       "    }\n",
       "\n",
       "    .dataframe thead th {\n",
       "        text-align: right;\n",
       "    }\n",
       "</style>\n",
       "<table border=\"1\" class=\"dataframe\">\n",
       "  <thead>\n",
       "    <tr style=\"text-align: right;\">\n",
       "      <th></th>\n",
       "      <th>Kehamilan</th>\n",
       "      <th>Glukosa</th>\n",
       "      <th>Darah</th>\n",
       "      <th>LemakTubuh</th>\n",
       "      <th>Insulin</th>\n",
       "      <th>BMI</th>\n",
       "      <th>Riwayat</th>\n",
       "      <th>Umur</th>\n",
       "      <th>Hasil</th>\n",
       "    </tr>\n",
       "  </thead>\n",
       "  <tbody>\n",
       "    <tr>\n",
       "      <th>0</th>\n",
       "      <td>8</td>\n",
       "      <td>188</td>\n",
       "      <td>78</td>\n",
       "      <td>0</td>\n",
       "      <td>0</td>\n",
       "      <td>47.9</td>\n",
       "      <td>0.137</td>\n",
       "      <td>43</td>\n",
       "      <td>1</td>\n",
       "    </tr>\n",
       "    <tr>\n",
       "      <th>1</th>\n",
       "      <td>7</td>\n",
       "      <td>152</td>\n",
       "      <td>88</td>\n",
       "      <td>44</td>\n",
       "      <td>0</td>\n",
       "      <td>50.0</td>\n",
       "      <td>0.337</td>\n",
       "      <td>36</td>\n",
       "      <td>1</td>\n",
       "    </tr>\n",
       "    <tr>\n",
       "      <th>2</th>\n",
       "      <td>2</td>\n",
       "      <td>99</td>\n",
       "      <td>52</td>\n",
       "      <td>15</td>\n",
       "      <td>94</td>\n",
       "      <td>24.6</td>\n",
       "      <td>0.637</td>\n",
       "      <td>21</td>\n",
       "      <td>0</td>\n",
       "    </tr>\n",
       "    <tr>\n",
       "      <th>3</th>\n",
       "      <td>1</td>\n",
       "      <td>109</td>\n",
       "      <td>56</td>\n",
       "      <td>21</td>\n",
       "      <td>135</td>\n",
       "      <td>25.2</td>\n",
       "      <td>0.833</td>\n",
       "      <td>23</td>\n",
       "      <td>0</td>\n",
       "    </tr>\n",
       "    <tr>\n",
       "      <th>4</th>\n",
       "      <td>2</td>\n",
       "      <td>88</td>\n",
       "      <td>74</td>\n",
       "      <td>19</td>\n",
       "      <td>53</td>\n",
       "      <td>29.0</td>\n",
       "      <td>0.229</td>\n",
       "      <td>22</td>\n",
       "      <td>0</td>\n",
       "    </tr>\n",
       "  </tbody>\n",
       "</table>\n",
       "</div>"
      ],
      "text/plain": [
       "   Kehamilan  Glukosa  Darah  LemakTubuh  Insulin   BMI  Riwayat  Umur  Hasil\n",
       "0          8      188     78           0        0  47.9    0.137    43      1\n",
       "1          7      152     88          44        0  50.0    0.337    36      1\n",
       "2          2       99     52          15       94  24.6    0.637    21      0\n",
       "3          1      109     56          21      135  25.2    0.833    23      0\n",
       "4          2       88     74          19       53  29.0    0.229    22      0"
      ]
     },
     "execution_count": 46,
     "metadata": {},
     "output_type": "execute_result"
    }
   ],
   "source": [
    "#Menampilkan Data\n",
    "\n",
    "df.head()"
   ]
  },
  {
   "cell_type": "markdown",
   "id": "bd1103d8",
   "metadata": {},
   "source": [
    "# **INFORMASI DARI DATASET**"
   ]
  },
  {
   "cell_type": "code",
   "execution_count": 47,
   "id": "20adb701",
   "metadata": {},
   "outputs": [
    {
     "name": "stdout",
     "output_type": "stream",
     "text": [
      "<class 'pandas.core.frame.DataFrame'>\n",
      "RangeIndex: 768 entries, 0 to 767\n",
      "Data columns (total 9 columns):\n",
      " #   Column      Non-Null Count  Dtype  \n",
      "---  ------      --------------  -----  \n",
      " 0   Kehamilan   768 non-null    int64  \n",
      " 1   Glukosa     768 non-null    int64  \n",
      " 2   Darah       768 non-null    int64  \n",
      " 3   LemakTubuh  768 non-null    int64  \n",
      " 4   Insulin     768 non-null    int64  \n",
      " 5   BMI         768 non-null    float64\n",
      " 6   Riwayat     768 non-null    float64\n",
      " 7   Umur        768 non-null    int64  \n",
      " 8   Hasil       768 non-null    int64  \n",
      "dtypes: float64(2), int64(7)\n",
      "memory usage: 54.1 KB\n"
     ]
    }
   ],
   "source": [
    "#menampilkan Informasi dari data \n",
    "\n",
    "df.info()"
   ]
  },
  {
   "cell_type": "code",
   "execution_count": 48,
   "id": "705e9be8",
   "metadata": {},
   "outputs": [
    {
     "data": {
      "text/plain": [
       "0    500\n",
       "1    268\n",
       "Name: Hasil, dtype: int64"
      ]
     },
     "execution_count": 48,
     "metadata": {},
     "output_type": "execute_result"
    }
   ],
   "source": [
    "#Jumlah Nilai hasil positif dan negatif pada data\n",
    "\n",
    "\n",
    "df.Hasil.value_counts()"
   ]
  },
  {
   "cell_type": "code",
   "execution_count": 49,
   "id": "279381c7",
   "metadata": {},
   "outputs": [
    {
     "data": {
      "text/plain": [
       "<AxesSubplot:xlabel='Hasil', ylabel='count'>"
      ]
     },
     "execution_count": 49,
     "metadata": {},
     "output_type": "execute_result"
    },
    {
     "data": {
      "image/png": "[encoded data removed]",
      "text/plain": [
       "<Figure size 432x288 with 1 Axes>"
      ]
     },
     "metadata": {
      "needs_background": "light"
     },
     "output_type": "display_data"
    }
   ],
   "source": [
    "# visualisasi nilai hasil data \n",
    "\n",
    "sns.countplot(data=df, x='Hasil')"
   ]
  },
  {
   "cell_type": "code",
   "execution_count": 53,
   "id": "e55cd454",
   "metadata": {},
   "outputs": [
    {
     "data": {
      "text/plain": [
       "Index(['Kehamilan', 'Glukosa', 'Darah', 'LemakTubuh', 'Insulin', 'BMI',\n",
       "       'Riwayat', 'Umur', 'Hasil'],\n",
       "      dtype='object')"
      ]
     },
     "execution_count": 53,
     "metadata": {},
     "output_type": "execute_result"
    }
   ],
   "source": [
    "#isi kolom pada data\n",
    "\n",
    "df.columns"
   ]
  },
  {
   "cell_type": "markdown",
   "id": "fdd43fa4",
   "metadata": {},
   "source": [
    "# **MELIHAT NILAI YANG HILANG**"
   ]
  },
  {
   "cell_type": "code",
   "execution_count": 54,
   "id": "f38db248",
   "metadata": {},
   "outputs": [
    {
     "data": {
      "text/plain": [
       "0"
      ]
     },
     "execution_count": 54,
     "metadata": {},
     "output_type": "execute_result"
    }
   ],
   "source": [
    "#mengecek apakah ada data yg kosong atau hilang data\n",
    "\n",
    "df.isnull().any().sum()"
   ]
  },
  {
   "cell_type": "markdown",
   "id": "953610f8",
   "metadata": {},
   "source": [
    "# **MENGGANTI NILAI YANG 0 MENJADI NILAI RATA-RATA**"
   ]
  },
  {
   "cell_type": "code",
   "execution_count": 55,
   "id": "c852ff0c",
   "metadata": {},
   "outputs": [
    {
     "data": {
      "text/html": [
       "<div>\n",
       "<style scoped>\n",
       "    .dataframe tbody tr th:only-of-type {\n",
       "        vertical-align: middle;\n",
       "    }\n",
       "\n",
       "    .dataframe tbody tr th {\n",
       "        vertical-align: top;\n",
       "    }\n",
       "\n",
       "    .dataframe thead th {\n",
       "        text-align: right;\n",
       "    }\n",
       "</style>\n",
       "<table border=\"1\" class=\"dataframe\">\n",
       "  <thead>\n",
       "    <tr style=\"text-align: right;\">\n",
       "      <th></th>\n",
       "      <th>Kehamilan</th>\n",
       "      <th>Glukosa</th>\n",
       "      <th>Darah</th>\n",
       "      <th>LemakTubuh</th>\n",
       "      <th>Insulin</th>\n",
       "      <th>BMI</th>\n",
       "      <th>Riwayat</th>\n",
       "      <th>Umur</th>\n",
       "      <th>Hasil</th>\n",
       "    </tr>\n",
       "  </thead>\n",
       "  <tbody>\n",
       "    <tr>\n",
       "      <th>count</th>\n",
       "      <td>768.000000</td>\n",
       "      <td>768.000000</td>\n",
       "      <td>768.000000</td>\n",
       "      <td>768.000000</td>\n",
       "      <td>768.000000</td>\n",
       "      <td>768.000000</td>\n",
       "      <td>768.000000</td>\n",
       "      <td>768.000000</td>\n",
       "      <td>768.000000</td>\n",
       "    </tr>\n",
       "    <tr>\n",
       "      <th>mean</th>\n",
       "      <td>3.845052</td>\n",
       "      <td>120.894531</td>\n",
       "      <td>69.105469</td>\n",
       "      <td>20.536458</td>\n",
       "      <td>79.799479</td>\n",
       "      <td>31.992578</td>\n",
       "      <td>0.471876</td>\n",
       "      <td>33.240885</td>\n",
       "      <td>0.348958</td>\n",
       "    </tr>\n",
       "    <tr>\n",
       "      <th>std</th>\n",
       "      <td>3.369578</td>\n",
       "      <td>31.972618</td>\n",
       "      <td>19.355807</td>\n",
       "      <td>15.952218</td>\n",
       "      <td>115.244002</td>\n",
       "      <td>7.884160</td>\n",
       "      <td>0.331329</td>\n",
       "      <td>11.760232</td>\n",
       "      <td>0.476951</td>\n",
       "    </tr>\n",
       "    <tr>\n",
       "      <th>min</th>\n",
       "      <td>0.000000</td>\n",
       "      <td>0.000000</td>\n",
       "      <td>0.000000</td>\n",
       "      <td>0.000000</td>\n",
       "      <td>0.000000</td>\n",
       "      <td>0.000000</td>\n",
       "      <td>0.078000</td>\n",
       "      <td>21.000000</td>\n",
       "      <td>0.000000</td>\n",
       "    </tr>\n",
       "    <tr>\n",
       "      <th>25%</th>\n",
       "      <td>1.000000</td>\n",
       "      <td>99.000000</td>\n",
       "      <td>62.000000</td>\n",
       "      <td>0.000000</td>\n",
       "      <td>0.000000</td>\n",
       "      <td>27.300000</td>\n",
       "      <td>0.243750</td>\n",
       "      <td>24.000000</td>\n",
       "      <td>0.000000</td>\n",
       "    </tr>\n",
       "    <tr>\n",
       "      <th>50%</th>\n",
       "      <td>3.000000</td>\n",
       "      <td>117.000000</td>\n",
       "      <td>72.000000</td>\n",
       "      <td>23.000000</td>\n",
       "      <td>30.500000</td>\n",
       "      <td>32.000000</td>\n",
       "      <td>0.372500</td>\n",
       "      <td>29.000000</td>\n",
       "      <td>0.000000</td>\n",
       "    </tr>\n",
       "    <tr>\n",
       "      <th>75%</th>\n",
       "      <td>6.000000</td>\n",
       "      <td>140.250000</td>\n",
       "      <td>80.000000</td>\n",
       "      <td>32.000000</td>\n",
       "      <td>127.250000</td>\n",
       "      <td>36.600000</td>\n",
       "      <td>0.626250</td>\n",
       "      <td>41.000000</td>\n",
       "      <td>1.000000</td>\n",
       "    </tr>\n",
       "    <tr>\n",
       "      <th>max</th>\n",
       "      <td>17.000000</td>\n",
       "      <td>199.000000</td>\n",
       "      <td>122.000000</td>\n",
       "      <td>99.000000</td>\n",
       "      <td>846.000000</td>\n",
       "      <td>67.100000</td>\n",
       "      <td>2.420000</td>\n",
       "      <td>81.000000</td>\n",
       "      <td>1.000000</td>\n",
       "    </tr>\n",
       "  </tbody>\n",
       "</table>\n",
       "</div>"
      ],
      "text/plain": [
       "        Kehamilan     Glukosa       Darah  LemakTubuh     Insulin         BMI  \\\n",
       "count  768.000000  768.000000  768.000000  768.000000  768.000000  768.000000   \n",
       "mean     3.845052  120.894531   69.105469   20.536458   79.799479   31.992578   \n",
       "std      3.369578   31.972618   19.355807   15.952218  115.244002    7.884160   \n",
       "min      0.000000    0.000000    0.000000    0.000000    0.000000    0.000000   \n",
       "25%      1.000000   99.000000   62.000000    0.000000    0.000000   27.300000   \n",
       "50%      3.000000  117.000000   72.000000   23.000000   30.500000   32.000000   \n",
       "75%      6.000000  140.250000   80.000000   32.000000  127.250000   36.600000   \n",
       "max     17.000000  199.000000  122.000000   99.000000  846.000000   67.100000   \n",
       "\n",
       "          Riwayat        Umur       Hasil  \n",
       "count  768.000000  768.000000  768.000000  \n",
       "mean     0.471876   33.240885    0.348958  \n",
       "std      0.331329   11.760232    0.476951  \n",
       "min      0.078000   21.000000    0.000000  \n",
       "25%      0.243750   24.000000    0.000000  \n",
       "50%      0.372500   29.000000    0.000000  \n",
       "75%      0.626250   41.000000    1.000000  \n",
       "max      2.420000   81.000000    1.000000  "
      ]
     },
     "execution_count": 55,
     "metadata": {},
     "output_type": "execute_result"
    }
   ],
   "source": [
    "#menampilkan tabel max dan min pada data\n",
    "\n",
    "df.describe()"
   ]
  },
  {
   "cell_type": "code",
   "execution_count": 56,
   "id": "1358427a",
   "metadata": {},
   "outputs": [],
   "source": [
    "#mengubah nilai yang kosong menjadi nilai rata rata data \n",
    "\n",
    "col=('Glukosa', 'Darah', 'LemakTubuh','Insulin', 'BMI')\n",
    "\n",
    "for i in col:\n",
    "    df[i].replace(0,df[i].mean(),inplace=True)"
   ]
  },
  {
   "cell_type": "code",
   "execution_count": 57,
   "id": "ed5b3c89",
   "metadata": {},
   "outputs": [
    {
     "data": {
      "text/html": [
       "<div>\n",
       "<style scoped>\n",
       "    .dataframe tbody tr th:only-of-type {\n",
       "        vertical-align: middle;\n",
       "    }\n",
       "\n",
       "    .dataframe tbody tr th {\n",
       "        vertical-align: top;\n",
       "    }\n",
       "\n",
       "    .dataframe thead th {\n",
       "        text-align: right;\n",
       "    }\n",
       "</style>\n",
       "<table border=\"1\" class=\"dataframe\">\n",
       "  <thead>\n",
       "    <tr style=\"text-align: right;\">\n",
       "      <th></th>\n",
       "      <th>Kehamilan</th>\n",
       "      <th>Glukosa</th>\n",
       "      <th>Darah</th>\n",
       "      <th>LemakTubuh</th>\n",
       "      <th>Insulin</th>\n",
       "      <th>BMI</th>\n",
       "      <th>Riwayat</th>\n",
       "      <th>Umur</th>\n",
       "      <th>Hasil</th>\n",
       "    </tr>\n",
       "  </thead>\n",
       "  <tbody>\n",
       "    <tr>\n",
       "      <th>count</th>\n",
       "      <td>768.000000</td>\n",
       "      <td>768.000000</td>\n",
       "      <td>768.000000</td>\n",
       "      <td>768.000000</td>\n",
       "      <td>768.000000</td>\n",
       "      <td>768.000000</td>\n",
       "      <td>768.000000</td>\n",
       "      <td>768.000000</td>\n",
       "      <td>768.000000</td>\n",
       "    </tr>\n",
       "    <tr>\n",
       "      <th>mean</th>\n",
       "      <td>3.845052</td>\n",
       "      <td>121.681605</td>\n",
       "      <td>72.254807</td>\n",
       "      <td>26.606479</td>\n",
       "      <td>118.660163</td>\n",
       "      <td>32.450805</td>\n",
       "      <td>0.471876</td>\n",
       "      <td>33.240885</td>\n",
       "      <td>0.348958</td>\n",
       "    </tr>\n",
       "    <tr>\n",
       "      <th>std</th>\n",
       "      <td>3.369578</td>\n",
       "      <td>30.436016</td>\n",
       "      <td>12.115932</td>\n",
       "      <td>9.631241</td>\n",
       "      <td>93.080358</td>\n",
       "      <td>6.875374</td>\n",
       "      <td>0.331329</td>\n",
       "      <td>11.760232</td>\n",
       "      <td>0.476951</td>\n",
       "    </tr>\n",
       "    <tr>\n",
       "      <th>min</th>\n",
       "      <td>0.000000</td>\n",
       "      <td>44.000000</td>\n",
       "      <td>24.000000</td>\n",
       "      <td>7.000000</td>\n",
       "      <td>14.000000</td>\n",
       "      <td>18.200000</td>\n",
       "      <td>0.078000</td>\n",
       "      <td>21.000000</td>\n",
       "      <td>0.000000</td>\n",
       "    </tr>\n",
       "    <tr>\n",
       "      <th>25%</th>\n",
       "      <td>1.000000</td>\n",
       "      <td>99.750000</td>\n",
       "      <td>64.000000</td>\n",
       "      <td>20.536458</td>\n",
       "      <td>79.799479</td>\n",
       "      <td>27.500000</td>\n",
       "      <td>0.243750</td>\n",
       "      <td>24.000000</td>\n",
       "      <td>0.000000</td>\n",
       "    </tr>\n",
       "    <tr>\n",
       "      <th>50%</th>\n",
       "      <td>3.000000</td>\n",
       "      <td>117.000000</td>\n",
       "      <td>72.000000</td>\n",
       "      <td>23.000000</td>\n",
       "      <td>79.799479</td>\n",
       "      <td>32.000000</td>\n",
       "      <td>0.372500</td>\n",
       "      <td>29.000000</td>\n",
       "      <td>0.000000</td>\n",
       "    </tr>\n",
       "    <tr>\n",
       "      <th>75%</th>\n",
       "      <td>6.000000</td>\n",
       "      <td>140.250000</td>\n",
       "      <td>80.000000</td>\n",
       "      <td>32.000000</td>\n",
       "      <td>127.250000</td>\n",
       "      <td>36.600000</td>\n",
       "      <td>0.626250</td>\n",
       "      <td>41.000000</td>\n",
       "      <td>1.000000</td>\n",
       "    </tr>\n",
       "    <tr>\n",
       "      <th>max</th>\n",
       "      <td>17.000000</td>\n",
       "      <td>199.000000</td>\n",
       "      <td>122.000000</td>\n",
       "      <td>99.000000</td>\n",
       "      <td>846.000000</td>\n",
       "      <td>67.100000</td>\n",
       "      <td>2.420000</td>\n",
       "      <td>81.000000</td>\n",
       "      <td>1.000000</td>\n",
       "    </tr>\n",
       "  </tbody>\n",
       "</table>\n",
       "</div>"
      ],
      "text/plain": [
       "        Kehamilan     Glukosa       Darah  LemakTubuh     Insulin         BMI  \\\n",
       "count  768.000000  768.000000  768.000000  768.000000  768.000000  768.000000   \n",
       "mean     3.845052  121.681605   72.254807   26.606479  118.660163   32.450805   \n",
       "std      3.369578   30.436016   12.115932    9.631241   93.080358    6.875374   \n",
       "min      0.000000   44.000000   24.000000    7.000000   14.000000   18.200000   \n",
       "25%      1.000000   99.750000   64.000000   20.536458   79.799479   27.500000   \n",
       "50%      3.000000  117.000000   72.000000   23.000000   79.799479   32.000000   \n",
       "75%      6.000000  140.250000   80.000000   32.000000  127.250000   36.600000   \n",
       "max     17.000000  199.000000  122.000000   99.000000  846.000000   67.100000   \n",
       "\n",
       "          Riwayat        Umur       Hasil  \n",
       "count  768.000000  768.000000  768.000000  \n",
       "mean     0.471876   33.240885    0.348958  \n",
       "std      0.331329   11.760232    0.476951  \n",
       "min      0.078000   21.000000    0.000000  \n",
       "25%      0.243750   24.000000    0.000000  \n",
       "50%      0.372500   29.000000    0.000000  \n",
       "75%      0.626250   41.000000    1.000000  \n",
       "max      2.420000   81.000000    1.000000  "
      ]
     },
     "execution_count": 57,
     "metadata": {},
     "output_type": "execute_result"
    }
   ],
   "source": [
    "df.describe()"
   ]
  },
  {
   "cell_type": "code",
   "execution_count": 58,
   "id": "3bd93b98",
   "metadata": {},
   "outputs": [
    {
     "data": {
      "text/html": [
       "<div>\n",
       "<style scoped>\n",
       "    .dataframe tbody tr th:only-of-type {\n",
       "        vertical-align: middle;\n",
       "    }\n",
       "\n",
       "    .dataframe tbody tr th {\n",
       "        vertical-align: top;\n",
       "    }\n",
       "\n",
       "    .dataframe thead th {\n",
       "        text-align: right;\n",
       "    }\n",
       "</style>\n",
       "<table border=\"1\" class=\"dataframe\">\n",
       "  <thead>\n",
       "    <tr style=\"text-align: right;\">\n",
       "      <th></th>\n",
       "      <th>Kehamilan</th>\n",
       "      <th>Glukosa</th>\n",
       "      <th>Darah</th>\n",
       "      <th>LemakTubuh</th>\n",
       "      <th>Insulin</th>\n",
       "      <th>BMI</th>\n",
       "      <th>Riwayat</th>\n",
       "      <th>Umur</th>\n",
       "      <th>Hasil</th>\n",
       "    </tr>\n",
       "  </thead>\n",
       "  <tbody>\n",
       "    <tr>\n",
       "      <th>0</th>\n",
       "      <td>8</td>\n",
       "      <td>188.0</td>\n",
       "      <td>78.0</td>\n",
       "      <td>20.536458</td>\n",
       "      <td>79.799479</td>\n",
       "      <td>47.9</td>\n",
       "      <td>0.137</td>\n",
       "      <td>43</td>\n",
       "      <td>1</td>\n",
       "    </tr>\n",
       "    <tr>\n",
       "      <th>1</th>\n",
       "      <td>7</td>\n",
       "      <td>152.0</td>\n",
       "      <td>88.0</td>\n",
       "      <td>44.000000</td>\n",
       "      <td>79.799479</td>\n",
       "      <td>50.0</td>\n",
       "      <td>0.337</td>\n",
       "      <td>36</td>\n",
       "      <td>1</td>\n",
       "    </tr>\n",
       "    <tr>\n",
       "      <th>2</th>\n",
       "      <td>2</td>\n",
       "      <td>99.0</td>\n",
       "      <td>52.0</td>\n",
       "      <td>15.000000</td>\n",
       "      <td>94.000000</td>\n",
       "      <td>24.6</td>\n",
       "      <td>0.637</td>\n",
       "      <td>21</td>\n",
       "      <td>0</td>\n",
       "    </tr>\n",
       "    <tr>\n",
       "      <th>3</th>\n",
       "      <td>1</td>\n",
       "      <td>109.0</td>\n",
       "      <td>56.0</td>\n",
       "      <td>21.000000</td>\n",
       "      <td>135.000000</td>\n",
       "      <td>25.2</td>\n",
       "      <td>0.833</td>\n",
       "      <td>23</td>\n",
       "      <td>0</td>\n",
       "    </tr>\n",
       "    <tr>\n",
       "      <th>4</th>\n",
       "      <td>2</td>\n",
       "      <td>88.0</td>\n",
       "      <td>74.0</td>\n",
       "      <td>19.000000</td>\n",
       "      <td>53.000000</td>\n",
       "      <td>29.0</td>\n",
       "      <td>0.229</td>\n",
       "      <td>22</td>\n",
       "      <td>0</td>\n",
       "    </tr>\n",
       "  </tbody>\n",
       "</table>\n",
       "</div>"
      ],
      "text/plain": [
       "   Kehamilan  Glukosa  Darah  LemakTubuh     Insulin   BMI  Riwayat  Umur  \\\n",
       "0          8    188.0   78.0   20.536458   79.799479  47.9    0.137    43   \n",
       "1          7    152.0   88.0   44.000000   79.799479  50.0    0.337    36   \n",
       "2          2     99.0   52.0   15.000000   94.000000  24.6    0.637    21   \n",
       "3          1    109.0   56.0   21.000000  135.000000  25.2    0.833    23   \n",
       "4          2     88.0   74.0   19.000000   53.000000  29.0    0.229    22   \n",
       "\n",
       "   Hasil  \n",
       "0      1  \n",
       "1      1  \n",
       "2      0  \n",
       "3      0  \n",
       "4      0  "
      ]
     },
     "execution_count": 58,
     "metadata": {},
     "output_type": "execute_result"
    }
   ],
   "source": [
    "df.head()"
   ]
  },
  {
   "cell_type": "markdown",
   "id": "3aed9139",
   "metadata": {},
   "source": [
    "# **PEMBAGIAN DATASET MENJADI DATA X DAN Y**"
   ]
  },
  {
   "cell_type": "code",
   "execution_count": 59,
   "id": "9a399828",
   "metadata": {},
   "outputs": [],
   "source": [
    "#Pembagian data X dan Y pada data\n",
    "\n",
    "X = df.drop('Hasil', axis=1)\n",
    "y = df['Hasil']"
   ]
  },
  {
   "cell_type": "code",
   "execution_count": 60,
   "id": "d3fd4617",
   "metadata": {},
   "outputs": [
    {
     "data": {
      "text/html": [
       "<div>\n",
       "<style scoped>\n",
       "    .dataframe tbody tr th:only-of-type {\n",
       "        vertical-align: middle;\n",
       "    }\n",
       "\n",
       "    .dataframe tbody tr th {\n",
       "        vertical-align: top;\n",
       "    }\n",
       "\n",
       "    .dataframe thead th {\n",
       "        text-align: right;\n",
       "    }\n",
       "</style>\n",
       "<table border=\"1\" class=\"dataframe\">\n",
       "  <thead>\n",
       "    <tr style=\"text-align: right;\">\n",
       "      <th></th>\n",
       "      <th>Kehamilan</th>\n",
       "      <th>Glukosa</th>\n",
       "      <th>Darah</th>\n",
       "      <th>LemakTubuh</th>\n",
       "      <th>Insulin</th>\n",
       "      <th>BMI</th>\n",
       "      <th>Riwayat</th>\n",
       "      <th>Umur</th>\n",
       "    </tr>\n",
       "  </thead>\n",
       "  <tbody>\n",
       "    <tr>\n",
       "      <th>0</th>\n",
       "      <td>8</td>\n",
       "      <td>188.0</td>\n",
       "      <td>78.0</td>\n",
       "      <td>20.536458</td>\n",
       "      <td>79.799479</td>\n",
       "      <td>47.9</td>\n",
       "      <td>0.137</td>\n",
       "      <td>43</td>\n",
       "    </tr>\n",
       "    <tr>\n",
       "      <th>1</th>\n",
       "      <td>7</td>\n",
       "      <td>152.0</td>\n",
       "      <td>88.0</td>\n",
       "      <td>44.000000</td>\n",
       "      <td>79.799479</td>\n",
       "      <td>50.0</td>\n",
       "      <td>0.337</td>\n",
       "      <td>36</td>\n",
       "    </tr>\n",
       "    <tr>\n",
       "      <th>2</th>\n",
       "      <td>2</td>\n",
       "      <td>99.0</td>\n",
       "      <td>52.0</td>\n",
       "      <td>15.000000</td>\n",
       "      <td>94.000000</td>\n",
       "      <td>24.6</td>\n",
       "      <td>0.637</td>\n",
       "      <td>21</td>\n",
       "    </tr>\n",
       "    <tr>\n",
       "      <th>3</th>\n",
       "      <td>1</td>\n",
       "      <td>109.0</td>\n",
       "      <td>56.0</td>\n",
       "      <td>21.000000</td>\n",
       "      <td>135.000000</td>\n",
       "      <td>25.2</td>\n",
       "      <td>0.833</td>\n",
       "      <td>23</td>\n",
       "    </tr>\n",
       "    <tr>\n",
       "      <th>4</th>\n",
       "      <td>2</td>\n",
       "      <td>88.0</td>\n",
       "      <td>74.0</td>\n",
       "      <td>19.000000</td>\n",
       "      <td>53.000000</td>\n",
       "      <td>29.0</td>\n",
       "      <td>0.229</td>\n",
       "      <td>22</td>\n",
       "    </tr>\n",
       "  </tbody>\n",
       "</table>\n",
       "</div>"
      ],
      "text/plain": [
       "   Kehamilan  Glukosa  Darah  LemakTubuh     Insulin   BMI  Riwayat  Umur\n",
       "0          8    188.0   78.0   20.536458   79.799479  47.9    0.137    43\n",
       "1          7    152.0   88.0   44.000000   79.799479  50.0    0.337    36\n",
       "2          2     99.0   52.0   15.000000   94.000000  24.6    0.637    21\n",
       "3          1    109.0   56.0   21.000000  135.000000  25.2    0.833    23\n",
       "4          2     88.0   74.0   19.000000   53.000000  29.0    0.229    22"
      ]
     },
     "execution_count": 60,
     "metadata": {},
     "output_type": "execute_result"
    }
   ],
   "source": [
    "#Menampilkan X\n",
    "\n",
    "X.head()"
   ]
  },
  {
   "cell_type": "code",
   "execution_count": 61,
   "id": "9d05e5da",
   "metadata": {},
   "outputs": [
    {
     "data": {
      "text/plain": [
       "0    1\n",
       "1    1\n",
       "2    0\n",
       "3    0\n",
       "4    0\n",
       "Name: Hasil, dtype: int64"
      ]
     },
     "execution_count": 61,
     "metadata": {},
     "output_type": "execute_result"
    }
   ],
   "source": [
    "#Menampilkan y\n",
    "\n",
    "y.head()"
   ]
  },
  {
   "cell_type": "markdown",
   "id": "743dc7c9",
   "metadata": {},
   "source": [
    "# **NORMALISASI DATA**"
   ]
  },
  {
   "cell_type": "code",
   "execution_count": 62,
   "id": "e1f8bd1b",
   "metadata": {},
   "outputs": [
    {
     "data": {
      "text/html": [
       "<div>\n",
       "<style scoped>\n",
       "    .dataframe tbody tr th:only-of-type {\n",
       "        vertical-align: middle;\n",
       "    }\n",
       "\n",
       "    .dataframe tbody tr th {\n",
       "        vertical-align: top;\n",
       "    }\n",
       "\n",
       "    .dataframe thead th {\n",
       "        text-align: right;\n",
       "    }\n",
       "</style>\n",
       "<table border=\"1\" class=\"dataframe\">\n",
       "  <thead>\n",
       "    <tr style=\"text-align: right;\">\n",
       "      <th></th>\n",
       "      <th>0</th>\n",
       "      <th>1</th>\n",
       "      <th>2</th>\n",
       "      <th>3</th>\n",
       "      <th>4</th>\n",
       "      <th>5</th>\n",
       "      <th>6</th>\n",
       "      <th>7</th>\n",
       "    </tr>\n",
       "  </thead>\n",
       "  <tbody>\n",
       "    <tr>\n",
       "      <th>0</th>\n",
       "      <td>0.470588</td>\n",
       "      <td>0.929032</td>\n",
       "      <td>0.551020</td>\n",
       "      <td>0.147135</td>\n",
       "      <td>0.079086</td>\n",
       "      <td>0.607362</td>\n",
       "      <td>0.025192</td>\n",
       "      <td>0.366667</td>\n",
       "    </tr>\n",
       "    <tr>\n",
       "      <th>1</th>\n",
       "      <td>0.411765</td>\n",
       "      <td>0.696774</td>\n",
       "      <td>0.653061</td>\n",
       "      <td>0.402174</td>\n",
       "      <td>0.079086</td>\n",
       "      <td>0.650307</td>\n",
       "      <td>0.110589</td>\n",
       "      <td>0.250000</td>\n",
       "    </tr>\n",
       "    <tr>\n",
       "      <th>2</th>\n",
       "      <td>0.117647</td>\n",
       "      <td>0.354839</td>\n",
       "      <td>0.285714</td>\n",
       "      <td>0.086957</td>\n",
       "      <td>0.096154</td>\n",
       "      <td>0.130879</td>\n",
       "      <td>0.238685</td>\n",
       "      <td>0.000000</td>\n",
       "    </tr>\n",
       "    <tr>\n",
       "      <th>3</th>\n",
       "      <td>0.058824</td>\n",
       "      <td>0.419355</td>\n",
       "      <td>0.326531</td>\n",
       "      <td>0.152174</td>\n",
       "      <td>0.145433</td>\n",
       "      <td>0.143149</td>\n",
       "      <td>0.322374</td>\n",
       "      <td>0.033333</td>\n",
       "    </tr>\n",
       "    <tr>\n",
       "      <th>4</th>\n",
       "      <td>0.117647</td>\n",
       "      <td>0.283871</td>\n",
       "      <td>0.510204</td>\n",
       "      <td>0.130435</td>\n",
       "      <td>0.046875</td>\n",
       "      <td>0.220859</td>\n",
       "      <td>0.064475</td>\n",
       "      <td>0.016667</td>\n",
       "    </tr>\n",
       "  </tbody>\n",
       "</table>\n",
       "</div>"
      ],
      "text/plain": [
       "          0         1         2         3         4         5         6  \\\n",
       "0  0.470588  0.929032  0.551020  0.147135  0.079086  0.607362  0.025192   \n",
       "1  0.411765  0.696774  0.653061  0.402174  0.079086  0.650307  0.110589   \n",
       "2  0.117647  0.354839  0.285714  0.086957  0.096154  0.130879  0.238685   \n",
       "3  0.058824  0.419355  0.326531  0.152174  0.145433  0.143149  0.322374   \n",
       "4  0.117647  0.283871  0.510204  0.130435  0.046875  0.220859  0.064475   \n",
       "\n",
       "          7  \n",
       "0  0.366667  \n",
       "1  0.250000  \n",
       "2  0.000000  \n",
       "3  0.033333  \n",
       "4  0.016667  "
      ]
     },
     "execution_count": 62,
     "metadata": {},
     "output_type": "execute_result"
    }
   ],
   "source": [
    "#Normalisasi Data \n",
    "\n",
    "from sklearn.preprocessing import MinMaxScaler\n",
    "\n",
    "scaler = MinMaxScaler(feature_range = (0,1))\n",
    "X = scaler.fit_transform(X)\n",
    "X = pd.DataFrame(X)\n",
    "X.head()"
   ]
  },
  {
   "cell_type": "markdown",
   "id": "f48e7f19",
   "metadata": {},
   "source": [
    "# **MEMBAGI DATA MENJADI DATA LATIH DAN DATA UJI**"
   ]
  },
  {
   "cell_type": "code",
   "execution_count": 76,
   "id": "27128a26",
   "metadata": {},
   "outputs": [
    {
     "name": "stdout",
     "output_type": "stream",
     "text": [
      "Jumlah Data Latih        : (691, 8)\n",
      "Jumlah Data Uji          : (77, 8)\n",
      "Jumlah Hasil Data Latih  : (691,)\n",
      "Jumlah Hasil Data Uji    : (77,)\n"
     ]
    }
   ],
   "source": [
    "#Bagi data mnjadi data uji dan data latih\n",
    "\n",
    "x_train, x_test, y_train, y_test = train_test_split(X,y, test_size =0.1, random_state = 0)\n",
    "print(\"Jumlah Data Latih        :\", x_train.shape)\n",
    "print(\"Jumlah Data Uji          :\", x_test .shape)\n",
    "print(\"Jumlah Hasil Data Latih  :\", y_train.shape)\n",
    "print(\"Jumlah Hasil Data Uji    :\", y_test.shape)"
   ]
  },
  {
   "cell_type": "markdown",
   "id": "1092f40b",
   "metadata": {},
   "source": [
    "# **MODELLING KNN**"
   ]
  },
  {
   "cell_type": "code",
   "execution_count": 80,
   "id": "b066c593",
   "metadata": {},
   "outputs": [],
   "source": [
    "#PEMBUATAN MODEL KNN\n",
    "\n",
    "from sklearn.neighbors import KNeighborsClassifier\n",
    "from sklearn.metrics import accuracy_score, confusion_matrix, classification_report\n",
    "\n",
    "knn = KNeighborsClassifier(n_neighbors=6)  #input nilai k\n",
    "knn.fit(x_train,y_train)\n",
    "\n",
    "knn_acc = accuracy_score(y_test,knn.predict(x_test))"
   ]
  },
  {
   "cell_type": "code",
   "execution_count": 81,
   "id": "0b995b42",
   "metadata": {},
   "outputs": [
    {
     "name": "stdout",
     "output_type": "stream",
     "text": [
      "Hasil Akurasi Data Latih :80.31837916063675\n",
      "Hasil Akurasi Data Uji   :80.51948051948052\n"
     ]
    }
   ],
   "source": [
    "print(\"Hasil Akurasi Data Latih :\"+str(accuracy_score(y_train,knn.predict(x_train))*100))\n",
    "print(\"Hasil Akurasi Data Uji   :\"+str(accuracy_score(y_test,knn.predict(x_test))*100))"
   ]
  },
  {
   "cell_type": "code",
   "execution_count": 82,
   "id": "420e26a5",
   "metadata": {},
   "outputs": [],
   "source": [
    "train_pred = knn.predict(x_train)\n",
    "test_pred = knn.predict(x_test)"
   ]
  },
  {
   "cell_type": "markdown",
   "id": "482255d5",
   "metadata": {},
   "source": [
    "**EVALUASI DATA LATIH**"
   ]
  },
  {
   "cell_type": "code",
   "execution_count": 83,
   "id": "68aaa108",
   "metadata": {},
   "outputs": [
    {
     "data": {
      "text/plain": [
       "array([[405,  39],\n",
       "       [ 97, 150]], dtype=int64)"
      ]
     },
     "execution_count": 83,
     "metadata": {},
     "output_type": "execute_result"
    }
   ],
   "source": [
    "confusion_matrix(y_train, train_pred)  #confusion matrix Data Latih "
   ]
  },
  {
   "cell_type": "code",
   "execution_count": 68,
   "id": "67ed2050",
   "metadata": {},
   "outputs": [
    {
     "name": "stdout",
     "output_type": "stream",
     "text": [
      "Hasil F1 Score : 68.80733944954129 %\n",
      "Hasil Akurasi  : 80.31837916063675 %\n"
     ]
    }
   ],
   "source": [
    "print(\"Hasil F1 Score :\",f1_score(y_train, train_pred) * 100, '%')\n",
    "print(\"Hasil Akurasi  :\",accuracy_score(y_train, knn.predict(x_train)) * 100, '%')\n"
   ]
  },
  {
   "cell_type": "markdown",
   "id": "55da108c",
   "metadata": {},
   "source": [
    " **EVALUASI DATA UJI**"
   ]
  },
  {
   "cell_type": "code",
   "execution_count": 69,
   "id": "67c0858b",
   "metadata": {},
   "outputs": [
    {
     "data": {
      "text/plain": [
       "array([[51,  5],\n",
       "       [10, 11]], dtype=int64)"
      ]
     },
     "execution_count": 69,
     "metadata": {},
     "output_type": "execute_result"
    }
   ],
   "source": [
    "confusion_matrix(y_test, test_pred)  #confusion matrix Data Uji"
   ]
  },
  {
   "cell_type": "code",
   "execution_count": 70,
   "id": "888a059c",
   "metadata": {},
   "outputs": [
    {
     "name": "stdout",
     "output_type": "stream",
     "text": [
      "Hasil F1 Score : 59.45945945945946 %\n",
      "Hasil Akurasi  : 80.51948051948052 %\n"
     ]
    }
   ],
   "source": [
    "print(\"Hasil F1 Score :\",f1_score(y_test, test_pred) * 100, '%')\n",
    "print(\"Hasil Akurasi  :\",accuracy_score(y_test, knn.predict(x_test)) * 100, '%')\n"
   ]
  },
  {
   "cell_type": "markdown",
   "id": "2f8177a5",
   "metadata": {},
   "source": [
    "# EVALUASI AKHIR"
   ]
  },
  {
   "cell_type": "code",
   "execution_count": 71,
   "id": "575d6979",
   "metadata": {},
   "outputs": [
    {
     "name": "stdout",
     "output_type": "stream",
     "text": [
      "Hasil Akurasi  : 80.51948051948052 %\n"
     ]
    }
   ],
   "source": [
    "print(\"Hasil Akurasi  :\",accuracy_score(y_test, knn.predict(x_test)) * 100, '%')"
   ]
  },
  {
   "cell_type": "code",
   "execution_count": 72,
   "id": "ef2e05cb",
   "metadata": {},
   "outputs": [
    {
     "name": "stdout",
     "output_type": "stream",
     "text": [
      "1 0.6753246753246753\n",
      "2 0.7532467532467533\n",
      "3 0.7922077922077922\n",
      "4 0.7662337662337663\n",
      "5 0.7922077922077922\n",
      "6 0.8051948051948052\n",
      "7 0.7922077922077922\n",
      "8 0.7922077922077922\n",
      "9 0.7922077922077922\n",
      "10 0.8051948051948052\n",
      "11 0.8181818181818182\n",
      "12 0.8441558441558441\n",
      "13 0.8051948051948052\n",
      "14 0.8441558441558441\n",
      "15 0.8181818181818182\n",
      "16 0.8311688311688312\n",
      "17 0.8181818181818182\n",
      "18 0.8181818181818182\n",
      "19 0.8051948051948052\n",
      "20 0.8311688311688312\n",
      "21 0.8181818181818182\n",
      "22 0.8311688311688312\n",
      "23 0.8181818181818182\n",
      "24 0.8181818181818182\n",
      "25 0.8181818181818182\n",
      "26 0.8181818181818182\n",
      "27 0.8181818181818182\n",
      "28 0.8181818181818182\n",
      "29 0.8181818181818182\n"
     ]
    }
   ],
   "source": [
    "#Menampilkan Akurasi \n",
    "\n",
    "score = []\n",
    "for n in range(1,30):\n",
    "    knn = KNeighborsClassifier(n_neighbors=n)\n",
    "    knn.fit(x_train, y_train)\n",
    "    knnscore = knn.score(x_test, y_test)\n",
    "    sken = score.append(knnscore)\n",
    "    print(n, knnscore)"
   ]
  },
  {
   "cell_type": "markdown",
   "id": "82fcb91f",
   "metadata": {},
   "source": [
    "# SIMPAN MODEL"
   ]
  },
  {
   "cell_type": "code",
   "execution_count": 90,
   "id": "8d4d8d86",
   "metadata": {},
   "outputs": [],
   "source": [
    "with open('knn_pickle', 'wb') as r:\n",
    "    pickle.dump(knn,r)"
   ]
  },
  {
   "cell_type": "code",
   "execution_count": 91,
   "id": "cb7ee3fb",
   "metadata": {},
   "outputs": [],
   "source": [
    "with open('knn_pickle', 'rb') as r:\n",
    "    knnp = pickle.load(r)"
   ]
  },
  {
   "cell_type": "code",
   "execution_count": 92,
   "id": "80efe96d",
   "metadata": {},
   "outputs": [
    {
     "data": {
      "text/plain": [
       "80.51948051948051"
      ]
     },
     "execution_count": 92,
     "metadata": {},
     "output_type": "execute_result"
    }
   ],
   "source": [
    "y_pred = knnp.predict(x_test)\n",
    "\n",
    "round(accuracy_score(y_test,test_pred),n)* 100"
   ]
  },
  {
   "cell_type": "code",
   "execution_count": 111,
   "id": "d941149c",
   "metadata": {},
   "outputs": [],
   "source": [
    "df.to_csv('arviganteng.csv')"
   ]
  },
  {
   "cell_type": "code",
   "execution_count": null,
   "id": "6016dd43",
   "metadata": {},
   "outputs": [],
   "source": []
  }
 ],
 "metadata": {
  "kernelspec": {
   "display_name": ".venv",
   "language": "python",
   "name": "python3"
  },
  "language_info": {
   "codemirror_mode": {
    "name": "ipython",
    "version": 3
   },
   "file_extension": ".py",
   "mimetype": "text/x-python",
   "name": "python",
   "nbconvert_exporter": "python",
   "pygments_lexer": "ipython3",
   "version": "3.9.1 (tags/v3.9.1:1e5d33e, Dec  7 2020, 17:08:21) [MSC v.1927 64 bit (AMD64)]"
  },
  "vscode": {
   "interpreter": {
    "hash": "2594a1fb88eafaefec142038c32a2b82b788a8b28e474160870933f0ee00fc45"
   }
  }
 },
 "nbformat": 4,
 "nbformat_minor": 5
}
