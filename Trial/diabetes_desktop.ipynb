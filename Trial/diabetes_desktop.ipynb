{
 "cells": [
  {
   "cell_type": "code",
   "execution_count": null,
   "metadata": {},
   "outputs": [],
   "source": [
    "from PyQt5.QtWidgets import *\n",
    "from PyQt5 import uic\n",
    "import pickle\n",
    "import numpy as np\n",
    "import sklearn\n",
    "\n",
    "with open('knn_pickle', 'rb') as r:\n",
    "    model = pickle.load(r)\n",
    "    \n",
    "def diabetes():\n",
    "    banyakMelahirkan = float(window.input_melahirkan.text())\n",
    "    kadarGlukosa = float(window.input_glukosa.text())\n",
    "    tekananDarah = float(window.input_darah.text())\n",
    "    ketebalanLipatanKulit = float(window.input_kulit.text())\n",
    "    kadarInsulin = float(window.input_insulin.text())\n",
    "    bmi = float(window.input_bmi.text())\n",
    "    derajatRiwayatDiabetes = float(window.input_riwayat.text())\n",
    "    umur = float(window.input_umur.text())\n",
    "    \n",
    "    dataPasien = np.array((banyakMelahirkan,kadarGlukosa,tekananDarah,ketebalanLipatanKulit,kadarInsulin,bmi,derajatRiwayatDiabetes,umur))\n",
    "    data = np.reshape(dataPasien, (1, -1))\n",
    "    \n",
    "    isDiabetes = model.predict(data)\n",
    "    \n",
    "    if(isDiabetes==1):\n",
    "        window.label_simpulan.setText('POSITIF DIABETES')\n",
    "    elif(isDiabetes==0):\n",
    "        window.label_simpulan.setText('NEGATIF DIABETES')\n",
    "        \n",
    "app = QApplication([])\n",
    "window = QMainWindow()\n",
    "uic.loadUi('diabetes.ui', window)\n",
    "window.setWindowTitle('Deteksi Diabetes')\n",
    "window.show()\n",
    "window.button_prediksi.clicked.connect(diabetes)\n",
    "app.exec_()"
   ]
  }
 ],
 "metadata": {
  "kernelspec": {
   "display_name": ".venv",
   "language": "python",
   "name": "python3"
  },
  "language_info": {
   "codemirror_mode": {
    "name": "ipython",
    "version": 3
   },
   "file_extension": ".py",
   "mimetype": "text/x-python",
   "name": "python",
   "nbconvert_exporter": "python",
   "pygments_lexer": "ipython3",
   "version": "3.9.1 (tags/v3.9.1:1e5d33e, Dec  7 2020, 17:08:21) [MSC v.1927 64 bit (AMD64)]"
  },
  "vscode": {
   "interpreter": {
    "hash": "2594a1fb88eafaefec142038c32a2b82b788a8b28e474160870933f0ee00fc45"
   }
  }
 },
 "nbformat": 4,
 "nbformat_minor": 4
}
