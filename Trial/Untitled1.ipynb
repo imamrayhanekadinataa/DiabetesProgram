{
 "cells": [
  {
   "cell_type": "code",
   "execution_count": 5,
   "id": "46c05e85",
   "metadata": {},
   "outputs": [
    {
     "data": {
      "text/plain": [
       "2420.19722025"
      ]
     },
     "execution_count": 5,
     "metadata": {},
     "output_type": "execute_result"
    }
   ],
   "source": [
    "-49.1955*-49.1955"
   ]
  },
  {
   "cell_type": "code",
   "execution_count": 7,
   "id": "de586b19",
   "metadata": {},
   "outputs": [
    {
     "data": {
      "text/plain": [
       "2277.0247025123995"
      ]
     },
     "execution_count": 7,
     "metadata": {},
     "output_type": "execute_result"
    }
   ],
   "source": [
    "-47.71818 * -47.71818"
   ]
  },
  {
   "cell_type": "code",
   "execution_count": 9,
   "id": "5139e30f",
   "metadata": {},
   "outputs": [
    {
     "data": {
      "text/plain": [
       "9818.776573267602"
      ]
     },
     "execution_count": 9,
     "metadata": {},
     "output_type": "execute_result"
    }
   ],
   "source": [
    "-99.08974*-99.08974"
   ]
  },
  {
   "cell_type": "code",
   "execution_count": 11,
   "id": "2213fda7",
   "metadata": {},
   "outputs": [
    {
     "data": {
      "text/plain": [
       "2.6815700025"
      ]
     },
     "execution_count": 11,
     "metadata": {},
     "output_type": "execute_result"
    }
   ],
   "source": [
    "-1.63755*-1.63755"
   ]
  },
  {
   "cell_type": "code",
   "execution_count": 13,
   "id": "c1da26bf",
   "metadata": {},
   "outputs": [
    {
     "data": {
      "text/plain": [
       "4.41"
      ]
     },
     "execution_count": 13,
     "metadata": {},
     "output_type": "execute_result"
    }
   ],
   "source": [
    "-2.1*-2.1"
   ]
  },
  {
   "cell_type": "code",
   "execution_count": 15,
   "id": "5a7c931b",
   "metadata": {},
   "outputs": [
    {
     "data": {
      "text/plain": [
       "2.25"
      ]
     },
     "execution_count": 15,
     "metadata": {},
     "output_type": "execute_result"
    }
   ],
   "source": [
    "-1.5 * -1.5"
   ]
  },
  {
   "cell_type": "code",
   "execution_count": 19,
   "id": "e2d3685e",
   "metadata": {},
   "outputs": [],
   "source": [
    "a = 2420.19722025\n",
    "b = 2277.0247025123995\n",
    "c = 9818.776573267602\n",
    "d = 2.6815700025\n",
    "e = 4.41\n",
    "f = 2.25"
   ]
  },
  {
   "cell_type": "code",
   "execution_count": 23,
   "id": "d4b015bd",
   "metadata": {},
   "outputs": [
    {
     "data": {
      "text/plain": [
       "14525.3400660325"
      ]
     },
     "execution_count": 23,
     "metadata": {},
     "output_type": "execute_result"
    }
   ],
   "source": [
    "a + b + c + d + e + f"
   ]
  },
  {
   "cell_type": "code",
   "execution_count": 24,
   "id": "e5d6fc0b",
   "metadata": {},
   "outputs": [
    {
     "data": {
      "text/plain": [
       "7262.67003301625"
      ]
     },
     "execution_count": 24,
     "metadata": {},
     "output_type": "execute_result"
    }
   ],
   "source": [
    "14525.3400660325 "
   ]
  },
  {
   "cell_type": "code",
   "execution_count": null,
   "id": "c5c915aa",
   "metadata": {},
   "outputs": [],
   "source": []
  }
 ],
 "metadata": {
  "kernelspec": {
   "display_name": ".venv",
   "language": "python",
   "name": "python3"
  },
  "language_info": {
   "codemirror_mode": {
    "name": "ipython",
    "version": 3
   },
   "file_extension": ".py",
   "mimetype": "text/x-python",
   "name": "python",
   "nbconvert_exporter": "python",
   "pygments_lexer": "ipython3",
   "version": "3.9.1 (tags/v3.9.1:1e5d33e, Dec  7 2020, 17:08:21) [MSC v.1927 64 bit (AMD64)]"
  },
  "vscode": {
   "interpreter": {
    "hash": "2594a1fb88eafaefec142038c32a2b82b788a8b28e474160870933f0ee00fc45"
   }
  }
 },
 "nbformat": 4,
 "nbformat_minor": 5
}
